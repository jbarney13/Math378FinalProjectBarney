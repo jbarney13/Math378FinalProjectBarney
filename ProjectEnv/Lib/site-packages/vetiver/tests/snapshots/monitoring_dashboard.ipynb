{
  "cells": [
    {
      "cell_type": "raw",
      "metadata": {},
      "source": [
        "---\n",
        "title: Monitoring dashboard\n",
        "format:\n",
        "  dashboard:\n",
        "    orientation: columns\n",
        "logo: 'https://github.com/rstudio/vetiver-python/blob/main/docs/figures/logo.png?raw=true'\n",
        "output: asis\n",
        "---"
      ],
      "id": "d3b053f1"
    },
    {
      "cell_type": "code",
      "metadata": {
        "tags": [
          "parameters"
        ]
      },
      "source": [
        "#| include: false\n",
        "\n",
        "# import model and metadata\n",
        "import pins\n",
        "from IPython.display import display, Markdown, IFrame\n",
        "from datetime import datetime, timedelta\n",
        "import pandas as pd\n",
        "import plotly.express as px\n",
        "from sklearn import metrics\n",
        "from vetiver import VetiverModel, compute_metrics, plot_metrics\n",
        "from sklearn.metrics import recall_score, accuracy_score\n",
        "\n",
        "raw = \"https://colorado.rstudio.com/rsc\"\n",
        "paths = {\"chicago-model-python\": \"chicago-model-python/\"}\n",
        "board = pins.board_url(raw, paths, allow_pickle_read=True)\n",
        "v = VetiverModel.from_pin(board, \"chicago-model-python\")\n",
        "v_meta = board.pin_meta(\"chicago-model-python\")\n",
        "days_old = datetime.today() - datetime.strptime(v_meta.created, \"%Y%m%dT%H%M%SZ\")"
      ],
      "id": "bb9229a2",
      "execution_count": null,
      "outputs": []
    },
    {
      "cell_type": "code",
      "metadata": {},
      "source": [
        "## the next few lines are an example model, here is a place to\n",
        "## add any code you need to import new data and make predictions\n",
        "\n",
        "# import new data to track performance over time\n",
        "raw = \"https://colorado.rstudio.com/rsc\"\n",
        "paths = {\"new-data\": \"inspections-new-data/\"}\n",
        "board = pins.board_url(raw, paths, allow_pickle_read=True)\n",
        "inspections_new = board.pin_read(\"new-data\")\n",
        "\n",
        "# make predictions\n",
        "inspections_new[\"preds\"] = v.model.predict(\n",
        "    inspections_new.drop(columns=[\"results\", \"aka_name\", \"inspection_date\"])\n",
        ")\n",
        "\n",
        "# map results\n",
        "inspections_new[\"preds\"] = inspections_new[\"preds\"].map({\"PASS\": 0, \"FAIL\": 1})\n",
        "inspections_new[\"results\"] = inspections_new[\"results\"].map({\"PASS\": 0, \"FAIL\": 1})"
      ],
      "id": "ef75fc76",
      "execution_count": null,
      "outputs": []
    },
    {
      "cell_type": "markdown",
      "metadata": {},
      "source": [
        "# Model info\n",
        "\n",
        "## Column\n",
        "### Row {height=\"33%\"}\n",
        "::: {.valuebox}\n",
        "`{python} v.description`\n",
        "\n",
        "`{python} v.model_name`\n",
        ":::\n",
        "\n",
        "::: {.valuebox}\n",
        "Model age\n",
        "\n",
        "`{python} days_old.days` days old\n",
        ":::\n",
        "\n",
        "### Row\n",
        "\n",
        "Model details\n",
        "\n",
        "- This model has the prototype:\n",
        "\n",
        "```\n",
        "`{python} v.prototype.construct().schema().get(\"properties\")`\n",
        "```\n",
        "\n",
        "- The model was created by ...\n",
        "\n",
        "# Model metrics\n",
        "\n",
        "## Column"
      ],
      "id": "e4cf2a4a"
    },
    {
      "cell_type": "code",
      "metadata": {},
      "source": [
        "import itables\n",
        "\n",
        "td = timedelta(weeks = 4)\n",
        "metric_set = [accuracy_score, recall_score]\n",
        "\n",
        "metrics_df = compute_metrics(\n",
        "    data = inspections_new,\n",
        "    date_var = \"inspection_date\",\n",
        "    period = td,\n",
        "    metric_set = metric_set,\n",
        "    truth = \"results\",\n",
        "    estimate = \"preds\"\n",
        "  )\n",
        "itables.show(metrics_df)"
      ],
      "id": "6804f312",
      "execution_count": null,
      "outputs": []
    },
    {
      "cell_type": "code",
      "metadata": {},
      "source": [
        "plot_metrics(metrics_df).show()"
      ],
      "id": "884b9f5d",
      "execution_count": null,
      "outputs": []
    },
    {
      "cell_type": "markdown",
      "metadata": {},
      "source": [
        "## Column {.sidebar}\n",
        "\n",
        "This tab is used to see model performance over time. In this context, _performance_ is the statistical properties of the model, eg, accuracy and recall.\n",
        "\n",
        "You can add custom information and metrics here.\n",
        "\n",
        "# Explore validation data"
      ],
      "id": "77c8f229"
    },
    {
      "cell_type": "code",
      "metadata": {},
      "source": [
        "fig = px.histogram(inspections_new, x = \"facility_type\")\n",
        "fig.show()"
      ],
      "id": "cb0d6f0c",
      "execution_count": null,
      "outputs": []
    },
    {
      "cell_type": "markdown",
      "metadata": {},
      "source": [
        "## Column {.sidebar}\n",
        "\n",
        "Write your own code to make visualizations or tables with the new validation data, and/or the new predictions.\n",
        "\n",
        "\n",
        "# API visual documentation\n",
        "\n",
        "## Column"
      ],
      "id": "495c2ed4"
    },
    {
      "cell_type": "code",
      "metadata": {},
      "source": [
        "from IPython.display import IFrame\n",
        "IFrame('https://colorado.posit.co/rsc/chicago-inspections-python', width=750, height=350)"
      ],
      "id": "3be7a4c6",
      "execution_count": null,
      "outputs": []
    },
    {
      "cell_type": "markdown",
      "metadata": {},
      "source": [
        "---\n",
        "\n",
        "\n",
        "## Column {.sidebar}\n",
        "\n",
        "Interact directly with your model via its visual documentation, and get `curl` examples."
      ],
      "id": "c1366c24"
    }
  ],
  "metadata": {
    "kernelspec": {
      "name": "python3",
      "language": "python",
      "display_name": "Python 3 (ipykernel)"
    }
  },
  "nbformat": 4,
  "nbformat_minor": 5
}